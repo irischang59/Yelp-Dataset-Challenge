{
 "cells": [
  {
   "cell_type": "markdown",
   "metadata": {},
   "source": [
    "# Yelp Data Challenge - NLP\n",
    "\n",
    "BitTiger DS501\n",
    "\n",
    "Jun 2017"
   ]
  },
  {
   "cell_type": "code",
   "execution_count": 1,
   "metadata": {},
   "outputs": [
    {
     "name": "stderr",
     "output_type": "stream",
     "text": [
      "/Users/iris/anaconda2/lib/python2.7/site-packages/scipy/special/__init__.py:640: RuntimeWarning: numpy.dtype size changed, may indicate binary incompatibility. Expected 96, got 88\n",
      "  from ._ufuncs import *\n",
      "/Users/iris/anaconda2/lib/python2.7/site-packages/scipy/linalg/basic.py:17: RuntimeWarning: numpy.dtype size changed, may indicate binary incompatibility. Expected 96, got 88\n",
      "  from ._solve_toeplitz import levinson\n",
      "/Users/iris/anaconda2/lib/python2.7/site-packages/scipy/linalg/__init__.py:202: RuntimeWarning: numpy.dtype size changed, may indicate binary incompatibility. Expected 96, got 88\n",
      "  from ._decomp_update import *\n",
      "/Users/iris/anaconda2/lib/python2.7/site-packages/scipy/special/_ellip_harm.py:7: RuntimeWarning: numpy.dtype size changed, may indicate binary incompatibility. Expected 96, got 88\n",
      "  from ._ellip_harm_2 import _ellipsoid, _ellipsoid_norm\n",
      "/Users/iris/anaconda2/lib/python2.7/site-packages/scipy/sparse/lil.py:16: RuntimeWarning: numpy.dtype size changed, may indicate binary incompatibility. Expected 96, got 88\n",
      "  from . import _csparsetools\n",
      "/Users/iris/anaconda2/lib/python2.7/site-packages/scipy/optimize/_trlib/__init__.py:1: RuntimeWarning: numpy.dtype size changed, may indicate binary incompatibility. Expected 96, got 88\n",
      "  from ._trlib import TRLIBQuadraticSubproblem\n",
      "/Users/iris/anaconda2/lib/python2.7/site-packages/scipy/optimize/_numdiff.py:8: RuntimeWarning: numpy.dtype size changed, may indicate binary incompatibility. Expected 96, got 88\n",
      "  from ._group_columns import group_dense, group_sparse\n",
      "/Users/iris/anaconda2/lib/python2.7/site-packages/scipy/interpolate/_bsplines.py:9: RuntimeWarning: numpy.dtype size changed, may indicate binary incompatibility. Expected 96, got 88\n",
      "  from . import _bspl\n",
      "/Users/iris/anaconda2/lib/python2.7/site-packages/scipy/spatial/__init__.py:94: RuntimeWarning: numpy.dtype size changed, may indicate binary incompatibility. Expected 96, got 88\n",
      "  from .ckdtree import *\n",
      "/Users/iris/anaconda2/lib/python2.7/site-packages/scipy/spatial/__init__.py:95: RuntimeWarning: numpy.dtype size changed, may indicate binary incompatibility. Expected 96, got 88\n",
      "  from .qhull import *\n",
      "/Users/iris/anaconda2/lib/python2.7/site-packages/scipy/spatial/_spherical_voronoi.py:18: RuntimeWarning: numpy.dtype size changed, may indicate binary incompatibility. Expected 96, got 88\n",
      "  from . import _voronoi\n",
      "/Users/iris/anaconda2/lib/python2.7/site-packages/scipy/spatial/distance.py:121: RuntimeWarning: numpy.dtype size changed, may indicate binary incompatibility. Expected 96, got 88\n",
      "  from . import _hausdorff\n",
      "/Users/iris/anaconda2/lib/python2.7/site-packages/scipy/stats/_continuous_distns.py:17: RuntimeWarning: numpy.dtype size changed, may indicate binary incompatibility. Expected 96, got 88\n",
      "  from . import _stats\n",
      "/Users/iris/anaconda2/lib/python2.7/site-packages/scipy/cluster/vq.py:78: RuntimeWarning: numpy.dtype size changed, may indicate binary incompatibility. Expected 96, got 88\n",
      "  from . import _vq\n",
      "/Users/iris/anaconda2/lib/python2.7/site-packages/scipy/cluster/hierarchy.py:178: RuntimeWarning: numpy.dtype size changed, may indicate binary incompatibility. Expected 96, got 88\n",
      "  from . import _hierarchy, _optimal_leaf_ordering\n",
      "/Users/iris/anaconda2/lib/python2.7/site-packages/sklearn/utils/__init__.py:10: RuntimeWarning: numpy.dtype size changed, may indicate binary incompatibility. Expected 96, got 88\n",
      "  from .murmurhash import murmurhash3_32\n",
      "/Users/iris/anaconda2/lib/python2.7/site-packages/sklearn/feature_extraction/hashing.py:10: RuntimeWarning: numpy.dtype size changed, may indicate binary incompatibility. Expected 96, got 88\n",
      "  from . import _hashing\n",
      "/Users/iris/anaconda2/lib/python2.7/site-packages/sklearn/utils/extmath.py:24: RuntimeWarning: numpy.dtype size changed, may indicate binary incompatibility. Expected 96, got 88\n",
      "  from ._logistic_sigmoid import _log_logistic_sigmoid\n",
      "/Users/iris/anaconda2/lib/python2.7/site-packages/sklearn/utils/extmath.py:26: RuntimeWarning: numpy.dtype size changed, may indicate binary incompatibility. Expected 96, got 88\n",
      "  from .sparsefuncs_fast import csr_row_norms\n",
      "/Users/iris/anaconda2/lib/python2.7/site-packages/scipy/io/matlab/mio4.py:18: RuntimeWarning: numpy.dtype size changed, may indicate binary incompatibility. Expected 96, got 88\n",
      "  from .mio_utils import squeeze_element, chars_to_strings\n",
      "/Users/iris/anaconda2/lib/python2.7/site-packages/scipy/io/matlab/mio5.py:98: RuntimeWarning: numpy.dtype size changed, may indicate binary incompatibility. Expected 96, got 88\n",
      "  from .mio5_utils import VarReader5\n",
      "/Users/iris/anaconda2/lib/python2.7/site-packages/sklearn/utils/random.py:10: RuntimeWarning: numpy.dtype size changed, may indicate binary incompatibility. Expected 96, got 88\n",
      "  from ._random import sample_without_replacement\n",
      "/Users/iris/anaconda2/lib/python2.7/site-packages/sklearn/datasets/svmlight_format.py:25: RuntimeWarning: numpy.dtype size changed, may indicate binary incompatibility. Expected 96, got 88\n",
      "  from ._svmlight_format import _load_svmlight_file\n",
      "/Users/iris/anaconda2/lib/python2.7/site-packages/sklearn/svm/base.py:8: RuntimeWarning: numpy.dtype size changed, may indicate binary incompatibility. Expected 96, got 88\n",
      "  from . import libsvm, liblinear\n",
      "/Users/iris/anaconda2/lib/python2.7/site-packages/sklearn/svm/base.py:9: RuntimeWarning: numpy.dtype size changed, may indicate binary incompatibility. Expected 96, got 88\n",
      "  from . import libsvm_sparse\n",
      "/Users/iris/anaconda2/lib/python2.7/site-packages/sklearn/linear_model/base.py:35: RuntimeWarning: numpy.dtype size changed, may indicate binary incompatibility. Expected 96, got 88\n",
      "  from ..utils.seq_dataset import ArrayDataset, CSRDataset\n",
      "/Users/iris/anaconda2/lib/python2.7/site-packages/sklearn/linear_model/least_angle.py:23: RuntimeWarning: numpy.dtype size changed, may indicate binary incompatibility. Expected 96, got 88\n",
      "  from ..utils import arrayfuncs, as_float_array, check_X_y, deprecated\n",
      "/Users/iris/anaconda2/lib/python2.7/site-packages/sklearn/metrics/cluster/supervised.py:23: RuntimeWarning: numpy.dtype size changed, may indicate binary incompatibility. Expected 96, got 88\n",
      "  from .expected_mutual_info_fast import expected_mutual_information\n",
      "/Users/iris/anaconda2/lib/python2.7/site-packages/sklearn/metrics/pairwise.py:30: RuntimeWarning: numpy.dtype size changed, may indicate binary incompatibility. Expected 96, got 88\n",
      "  from .pairwise_fast import _chi2_kernel_fast, _sparse_manhattan\n",
      "/Users/iris/anaconda2/lib/python2.7/site-packages/sklearn/linear_model/coordinate_descent.py:29: RuntimeWarning: numpy.dtype size changed, may indicate binary incompatibility. Expected 96, got 88\n",
      "  from . import cd_fast\n",
      "/Users/iris/anaconda2/lib/python2.7/site-packages/sklearn/linear_model/__init__.py:22: RuntimeWarning: numpy.dtype size changed, may indicate binary incompatibility. Expected 96, got 88\n",
      "  from .sgd_fast import Hinge, Log, ModifiedHuber, SquaredLoss, Huber\n",
      "/Users/iris/anaconda2/lib/python2.7/site-packages/sklearn/linear_model/sag.py:12: RuntimeWarning: numpy.dtype size changed, may indicate binary incompatibility. Expected 96, got 88\n",
      "  from .sag_fast import sag\n",
      "/Users/iris/anaconda2/lib/python2.7/site-packages/sklearn/neighbors/__init__.py:6: RuntimeWarning: numpy.dtype size changed, may indicate binary incompatibility. Expected 96, got 88\n",
      "  from .ball_tree import BallTree\n",
      "/Users/iris/anaconda2/lib/python2.7/site-packages/sklearn/neighbors/__init__.py:7: RuntimeWarning: numpy.dtype size changed, may indicate binary incompatibility. Expected 96, got 88\n",
      "  from .kd_tree import KDTree\n"
     ]
    }
   ],
   "source": [
    "import pandas as pd\n",
    "import numpy as np\n",
    "import matplotlib.pyplot as plt\n",
    "import seaborn as sns\n",
    "import nltk\n",
    "from nltk.corpus import stopwords"
   ]
  },
  {
   "cell_type": "code",
   "execution_count": 2,
   "metadata": {},
   "outputs": [
    {
     "name": "stderr",
     "output_type": "stream",
     "text": [
      "/Users/iris/anaconda2/lib/python2.7/site-packages/IPython/core/interactiveshell.py:2718: DtypeWarning: Columns (0,2) have mixed types. Specify dtype option on import or set low_memory=False.\n",
      "  interactivity=interactivity, compiler=compiler, result=result)\n"
     ]
    }
   ],
   "source": [
    "df = pd.read_csv('data/last_2_years_restaurant_reviews.csv')"
   ]
  },
  {
   "cell_type": "code",
   "execution_count": 3,
   "metadata": {},
   "outputs": [
    {
     "data": {
      "text/html": [
       "<div>\n",
       "<style scoped>\n",
       "    .dataframe tbody tr th:only-of-type {\n",
       "        vertical-align: middle;\n",
       "    }\n",
       "\n",
       "    .dataframe tbody tr th {\n",
       "        vertical-align: top;\n",
       "    }\n",
       "\n",
       "    .dataframe thead th {\n",
       "        text-align: right;\n",
       "    }\n",
       "</style>\n",
       "<table border=\"1\" class=\"dataframe\">\n",
       "  <thead>\n",
       "    <tr style=\"text-align: right;\">\n",
       "      <th></th>\n",
       "      <th>Unnamed: 0</th>\n",
       "      <th>business_id</th>\n",
       "      <th>name</th>\n",
       "      <th>categories</th>\n",
       "      <th>avg_stars</th>\n",
       "      <th>cool</th>\n",
       "      <th>date</th>\n",
       "      <th>funny</th>\n",
       "      <th>review_id</th>\n",
       "      <th>stars</th>\n",
       "      <th>text</th>\n",
       "      <th>useful</th>\n",
       "      <th>user_id</th>\n",
       "    </tr>\n",
       "  </thead>\n",
       "  <tbody>\n",
       "    <tr>\n",
       "      <th>0</th>\n",
       "      <td>0</td>\n",
       "      <td>0W4lkclzZThpx3V65bVgig</td>\n",
       "      <td>NaN</td>\n",
       "      <td>NaN</td>\n",
       "      <td>NaN</td>\n",
       "      <td>0.0</td>\n",
       "      <td>2016-05-28</td>\n",
       "      <td>0.0</td>\n",
       "      <td>v0i_UHJMo_hPBq9bxWvW4w</td>\n",
       "      <td>5.0</td>\n",
       "      <td>Love the staff, love the meat, love the place....</td>\n",
       "      <td>0.0</td>\n",
       "      <td>bv2nCi5Qv5vroFiqKGopiw</td>\n",
       "    </tr>\n",
       "    <tr>\n",
       "      <th>1</th>\n",
       "      <td>1</td>\n",
       "      <td>AEx2SYEUJmTxVVB18LlCwA</td>\n",
       "      <td>NaN</td>\n",
       "      <td>NaN</td>\n",
       "      <td>NaN</td>\n",
       "      <td>0.0</td>\n",
       "      <td>2016-05-28</td>\n",
       "      <td>0.0</td>\n",
       "      <td>vkVSCC7xljjrAI4UGfnKEQ</td>\n",
       "      <td>5.0</td>\n",
       "      <td>Super simple place but amazing nonetheless. It...</td>\n",
       "      <td>0.0</td>\n",
       "      <td>bv2nCi5Qv5vroFiqKGopiw</td>\n",
       "    </tr>\n",
       "    <tr>\n",
       "      <th>2</th>\n",
       "      <td>2</td>\n",
       "      <td>VR6GpWIda3SfvPC-lg9H3w</td>\n",
       "      <td>NaN</td>\n",
       "      <td>NaN</td>\n",
       "      <td>NaN</td>\n",
       "      <td>0.0</td>\n",
       "      <td>2016-05-28</td>\n",
       "      <td>0.0</td>\n",
       "      <td>n6QzIUObkYshz4dz2QRJTw</td>\n",
       "      <td>5.0</td>\n",
       "      <td>Small unassuming place that changes their menu...</td>\n",
       "      <td>0.0</td>\n",
       "      <td>bv2nCi5Qv5vroFiqKGopiw</td>\n",
       "    </tr>\n",
       "    <tr>\n",
       "      <th>3</th>\n",
       "      <td>3</td>\n",
       "      <td>CKC0-MOWMqoeWf6s-szl8g</td>\n",
       "      <td>NaN</td>\n",
       "      <td>NaN</td>\n",
       "      <td>NaN</td>\n",
       "      <td>0.0</td>\n",
       "      <td>2016-05-28</td>\n",
       "      <td>0.0</td>\n",
       "      <td>MV3CcKScW05u5LVfF6ok0g</td>\n",
       "      <td>5.0</td>\n",
       "      <td>Lester's is located in a beautiful neighborhoo...</td>\n",
       "      <td>0.0</td>\n",
       "      <td>bv2nCi5Qv5vroFiqKGopiw</td>\n",
       "    </tr>\n",
       "    <tr>\n",
       "      <th>4</th>\n",
       "      <td>4</td>\n",
       "      <td>ACFtxLv8pGrrxMm6EgjreA</td>\n",
       "      <td>NaN</td>\n",
       "      <td>NaN</td>\n",
       "      <td>NaN</td>\n",
       "      <td>0.0</td>\n",
       "      <td>2016-05-28</td>\n",
       "      <td>0.0</td>\n",
       "      <td>IXvOzsEMYtiJI0CARmj77Q</td>\n",
       "      <td>4.0</td>\n",
       "      <td>Love coming here. Yes the place always needs t...</td>\n",
       "      <td>0.0</td>\n",
       "      <td>bv2nCi5Qv5vroFiqKGopiw</td>\n",
       "    </tr>\n",
       "  </tbody>\n",
       "</table>\n",
       "</div>"
      ],
      "text/plain": [
       "  Unnamed: 0             business_id name  categories  avg_stars  cool  \\\n",
       "0          0  0W4lkclzZThpx3V65bVgig  NaN         NaN        NaN   0.0   \n",
       "1          1  AEx2SYEUJmTxVVB18LlCwA  NaN         NaN        NaN   0.0   \n",
       "2          2  VR6GpWIda3SfvPC-lg9H3w  NaN         NaN        NaN   0.0   \n",
       "3          3  CKC0-MOWMqoeWf6s-szl8g  NaN         NaN        NaN   0.0   \n",
       "4          4  ACFtxLv8pGrrxMm6EgjreA  NaN         NaN        NaN   0.0   \n",
       "\n",
       "         date  funny               review_id  stars  \\\n",
       "0  2016-05-28    0.0  v0i_UHJMo_hPBq9bxWvW4w    5.0   \n",
       "1  2016-05-28    0.0  vkVSCC7xljjrAI4UGfnKEQ    5.0   \n",
       "2  2016-05-28    0.0  n6QzIUObkYshz4dz2QRJTw    5.0   \n",
       "3  2016-05-28    0.0  MV3CcKScW05u5LVfF6ok0g    5.0   \n",
       "4  2016-05-28    0.0  IXvOzsEMYtiJI0CARmj77Q    4.0   \n",
       "\n",
       "                                                text  useful  \\\n",
       "0  Love the staff, love the meat, love the place....     0.0   \n",
       "1  Super simple place but amazing nonetheless. It...     0.0   \n",
       "2  Small unassuming place that changes their menu...     0.0   \n",
       "3  Lester's is located in a beautiful neighborhoo...     0.0   \n",
       "4  Love coming here. Yes the place always needs t...     0.0   \n",
       "\n",
       "                  user_id  \n",
       "0  bv2nCi5Qv5vroFiqKGopiw  \n",
       "1  bv2nCi5Qv5vroFiqKGopiw  \n",
       "2  bv2nCi5Qv5vroFiqKGopiw  \n",
       "3  bv2nCi5Qv5vroFiqKGopiw  \n",
       "4  bv2nCi5Qv5vroFiqKGopiw  "
      ]
     },
     "execution_count": 3,
     "metadata": {},
     "output_type": "execute_result"
    }
   ],
   "source": [
    "df.head()"
   ]
  },
  {
   "cell_type": "code",
   "execution_count": 4,
   "metadata": {},
   "outputs": [
    {
     "name": "stdout",
     "output_type": "stream",
     "text": [
      "<class 'pandas.core.frame.DataFrame'>\n",
      "RangeIndex: 3048292 entries, 0 to 3048291\n",
      "Data columns (total 13 columns):\n",
      "Unnamed: 0     object\n",
      "business_id    object\n",
      "name           object\n",
      "categories     float64\n",
      "avg_stars      float64\n",
      "cool           float64\n",
      "date           object\n",
      "funny          float64\n",
      "review_id      object\n",
      "stars          float64\n",
      "text           object\n",
      "useful         float64\n",
      "user_id        object\n",
      "dtypes: float64(6), object(7)\n",
      "memory usage: 302.3+ MB\n"
     ]
    }
   ],
   "source": [
    "df.info()"
   ]
  },
  {
   "cell_type": "markdown",
   "metadata": {},
   "source": [
    "### Define your feature variables, here is the text of the review"
   ]
  },
  {
   "cell_type": "code",
   "execution_count": 5,
   "metadata": {
    "collapsed": true
   },
   "outputs": [],
   "source": [
    "# Take the values of the column that contains review text data, save to a variable named \"documents\"\n",
    "documents = df['text']"
   ]
  },
  {
   "cell_type": "code",
   "execution_count": 6,
   "metadata": {
    "collapsed": true
   },
   "outputs": [],
   "source": [
    "documents = df['text'].replace('\\n','', regex=True).tolist()\n",
    "documents = [str(i) for i in documents]\n",
    "documents = [' '.join(item.split()) for item in documents]"
   ]
  },
  {
   "cell_type": "code",
   "execution_count": 7,
   "metadata": {},
   "outputs": [
    {
     "data": {
      "text/plain": [
       "(list, 3048292)"
      ]
     },
     "execution_count": 7,
     "metadata": {},
     "output_type": "execute_result"
    }
   ],
   "source": [
    "# inspect your documents, e.g. check the size, take a peek at elements of the numpy array\n",
    "type(documents), len(documents)"
   ]
  },
  {
   "cell_type": "code",
   "execution_count": 8,
   "metadata": {},
   "outputs": [
    {
     "data": {
      "text/plain": [
       "\"Love the staff, love the meat, love the place. Prepare for a long line around lunch or dinner hours. They ask you how you want you meat, lean or something maybe, I can't remember. Just say you don't want it too fatty. Get a half sour pickle and a hot pepper. Hand cut french fries too.\""
      ]
     },
     "execution_count": 8,
     "metadata": {},
     "output_type": "execute_result"
    }
   ],
   "source": [
    "documents[0]"
   ]
  },
  {
   "cell_type": "markdown",
   "metadata": {},
   "source": [
    "### Define your target variable (any categorical variable that may be meaningful)"
   ]
  },
  {
   "cell_type": "markdown",
   "metadata": {},
   "source": [
    "#### For example, I am interested in perfect (5 stars) and imperfect (1-4 stars) rating"
   ]
  },
  {
   "cell_type": "code",
   "execution_count": 9,
   "metadata": {
    "collapsed": true
   },
   "outputs": [],
   "source": [
    "# Make a column and take the values, save to a variable named \"target\"\n",
    "df['target']= np.where(df['stars']==5,'perfect','imperfect')\n",
    "target = df['target'].values"
   ]
  },
  {
   "cell_type": "markdown",
   "metadata": {},
   "source": [
    "#### You may want to look at the statistic of the target variable"
   ]
  },
  {
   "cell_type": "code",
   "execution_count": 10,
   "metadata": {},
   "outputs": [
    {
     "data": {
      "text/plain": [
       "((3048292,), numpy.ndarray)"
      ]
     },
     "execution_count": 10,
     "metadata": {},
     "output_type": "execute_result"
    }
   ],
   "source": [
    "target.shape, type(target)"
   ]
  },
  {
   "cell_type": "code",
   "execution_count": 11,
   "metadata": {},
   "outputs": [
    {
     "name": "stdout",
     "output_type": "stream",
     "text": [
      "Vendor:  continuum\n",
      "Product: anaconda\n",
      "Message: trial mode expires in 30 days\n",
      "Solving environment: done\n",
      "\n",
      "# All requested packages already installed.\n",
      "\n"
     ]
    }
   ],
   "source": [
    "import sys\n",
    "!conda install --yes --prefix {sys.prefix} seaborn"
   ]
  },
  {
   "cell_type": "code",
   "execution_count": 12,
   "metadata": {},
   "outputs": [
    {
     "data": {
      "image/png": "[encoded data removed]",
      "text/plain": [
       "<Figure size 432x288 with 1 Axes>"
      ]
     },
     "metadata": {},
     "output_type": "display_data"
    }
   ],
   "source": [
    "# To be implemented\n",
    "import seaborn as sns\n",
    "sns.set(style=\"darkgrid\")\n",
    "ax = sns.countplot(x=\"target\", data=df)\n",
    "plt.show()"
   ]
  },
  {
   "cell_type": "markdown",
   "metadata": {},
   "source": [
    "## Let's create training dataset and test dataset"
   ]
  },
  {
   "cell_type": "code",
   "execution_count": 13,
   "metadata": {},
   "outputs": [
    {
     "name": "stderr",
     "output_type": "stream",
     "text": [
      "/Users/iris/anaconda2/lib/python2.7/site-packages/sklearn/cross_validation.py:41: DeprecationWarning: This module was deprecated in version 0.18 in favor of the model_selection module into which all the refactored classes and functions are moved. Also note that the interface of the new CV iterators are different from that of this module. This module will be removed in 0.20.\n",
      "  \"This module will be removed in 0.20.\", DeprecationWarning)\n"
     ]
    }
   ],
   "source": [
    "from sklearn.cross_validation import train_test_split"
   ]
  },
  {
   "cell_type": "code",
   "execution_count": 14,
   "metadata": {
    "collapsed": true
   },
   "outputs": [],
   "source": [
    "# Documents is your X, target is your y\n",
    "# Now split the data to training set and test set\n",
    "X = documents\n",
    "y = target"
   ]
  },
  {
   "cell_type": "code",
   "execution_count": 15,
   "metadata": {
    "collapsed": true
   },
   "outputs": [],
   "source": [
    "# Split to documents_train, documents_test, target_train, target_test\n",
    "documents_train, documents_test, target_train, target_test = train_test_split(X, y, test_size=0.4)"
   ]
  },
  {
   "cell_type": "code",
   "execution_count": 16,
   "metadata": {},
   "outputs": [
    {
     "name": "stdout",
     "output_type": "stream",
     "text": [
      "1828975 (1828975,)\n",
      "1219317 (1219317,)\n"
     ]
    }
   ],
   "source": [
    "print len(documents_train), target_train.shape\n",
    "print len(documents_test), target_test.shape"
   ]
  },
  {
   "cell_type": "markdown",
   "metadata": {},
   "source": [
    "## Let's get NLP representation of the documents"
   ]
  },
  {
   "cell_type": "code",
   "execution_count": 17,
   "metadata": {
    "collapsed": true
   },
   "outputs": [],
   "source": [
    "from nltk.corpus import stopwords\n",
    "stop_words = stopwords.words('english')\n",
    "from string import punctuation"
   ]
  },
  {
   "cell_type": "code",
   "execution_count": 18,
   "metadata": {
    "collapsed": true
   },
   "outputs": [],
   "source": [
    "from sklearn.feature_extraction.text import TfidfVectorizer\n",
    "vectorizer = TfidfVectorizer(stop_words='english', max_features=500)\n",
    "vectors = vectorizer.fit_transform(documents_train).toarray()\n",
    "words = vectorizer.get_feature_names()"
   ]
  },
  {
   "cell_type": "code",
   "execution_count": 19,
   "metadata": {},
   "outputs": [
    {
     "data": {
      "text/plain": [
       "(1828975, 500)"
      ]
     },
     "execution_count": 19,
     "metadata": {},
     "output_type": "execute_result"
    }
   ],
   "source": [
    "vectors.shape"
   ]
  },
  {
   "cell_type": "code",
   "execution_count": 20,
   "metadata": {},
   "outputs": [
    {
     "data": {
      "text/plain": [
       "array([[0.        , 0.        , 0.        , ..., 0.        , 0.        ,\n",
       "        0.        ],\n",
       "       [0.        , 0.        , 0.        , ..., 0.        , 0.        ,\n",
       "        0.        ],\n",
       "       [0.        , 0.16500355, 0.        , ..., 0.        , 0.        ,\n",
       "        0.        ],\n",
       "       ...,\n",
       "       [0.        , 0.        , 0.        , ..., 0.        , 0.        ,\n",
       "        0.        ],\n",
       "       [0.        , 0.06378698, 0.        , ..., 0.        , 0.        ,\n",
       "        0.        ],\n",
       "       [0.        , 0.        , 0.        , ..., 0.        , 0.        ,\n",
       "        0.        ]])"
      ]
     },
     "execution_count": 20,
     "metadata": {},
     "output_type": "execute_result"
    }
   ],
   "source": [
    "vectors"
   ]
  },
  {
   "cell_type": "code",
   "execution_count": 21,
   "metadata": {},
   "outputs": [
    {
     "data": {
      "text/plain": [
       "[u'00',\n",
       " u'10',\n",
       " u'12',\n",
       " u'15',\n",
       " u'20',\n",
       " u'30',\n",
       " u'50',\n",
       " u'able',\n",
       " u'absolutely',\n",
       " u'actually',\n",
       " u'add',\n",
       " u'ago',\n",
       " u'amazing',\n",
       " u'appetizer',\n",
       " u'appointment',\n",
       " u'area',\n",
       " u'arrived',\n",
       " u'ask',\n",
       " u'asked',\n",
       " u'ate',\n",
       " u'atmosphere',\n",
       " u'attentive',\n",
       " u'authentic',\n",
       " u'available',\n",
       " u'average',\n",
       " u'away',\n",
       " u'awesome',\n",
       " u'bacon',\n",
       " u'bad',\n",
       " u'bar',\n",
       " u'bbq',\n",
       " u'beautiful',\n",
       " u'beef',\n",
       " u'beer',\n",
       " u'believe',\n",
       " u'best',\n",
       " u'better',\n",
       " u'big',\n",
       " u'birthday',\n",
       " u'bit',\n",
       " u'bite',\n",
       " u'bought',\n",
       " u'bowl',\n",
       " u'bread',\n",
       " u'breakfast',\n",
       " u'bring',\n",
       " u'brought',\n",
       " u'brunch',\n",
       " u'buffet',\n",
       " u'burger',\n",
       " u'burgers',\n",
       " u'business',\n",
       " u'busy',\n",
       " u'buy',\n",
       " u'cake',\n",
       " u'called',\n",
       " u'came',\n",
       " u'car',\n",
       " u'card',\n",
       " u'care',\n",
       " u'change',\n",
       " u'charge',\n",
       " u'cheap',\n",
       " u'check',\n",
       " u'cheese',\n",
       " u'chicken',\n",
       " u'chinese',\n",
       " u'chips',\n",
       " u'chocolate',\n",
       " u'choice',\n",
       " u'choose',\n",
       " u'clean',\n",
       " u'close',\n",
       " u'coffee',\n",
       " u'cold',\n",
       " u'come',\n",
       " u'comes',\n",
       " u'comfortable',\n",
       " u'coming',\n",
       " u'company',\n",
       " u'completely',\n",
       " u'cooked',\n",
       " u'cool',\n",
       " u'cost',\n",
       " u'couldn',\n",
       " u'counter',\n",
       " u'couple',\n",
       " u'course',\n",
       " u'crab',\n",
       " u'cream',\n",
       " u'crispy',\n",
       " u'customer',\n",
       " u'customers',\n",
       " u'cut',\n",
       " u'day',\n",
       " u'days',\n",
       " u'deal',\n",
       " u'decent',\n",
       " u'decided',\n",
       " u'decor',\n",
       " u'definitely',\n",
       " u'delicious',\n",
       " u'delivery',\n",
       " u'desk',\n",
       " u'dessert',\n",
       " u'did',\n",
       " u'didn',\n",
       " u'different',\n",
       " u'dining',\n",
       " u'dinner',\n",
       " u'disappointed',\n",
       " u'dish',\n",
       " u'dishes',\n",
       " u'does',\n",
       " u'doesn',\n",
       " u'dog',\n",
       " u'doing',\n",
       " u'don',\n",
       " u'door',\n",
       " u'dr',\n",
       " u'drink',\n",
       " u'drinks',\n",
       " u'drive',\n",
       " u'dry',\n",
       " u'early',\n",
       " u'easy',\n",
       " u'eat',\n",
       " u'eating',\n",
       " u'egg',\n",
       " u'eggs',\n",
       " u'employees',\n",
       " u'end',\n",
       " u'ended',\n",
       " u'enjoy',\n",
       " u'enjoyed',\n",
       " u'entire',\n",
       " u'especially',\n",
       " u'exactly',\n",
       " u'excellent',\n",
       " u'expect',\n",
       " u'expected',\n",
       " u'expensive',\n",
       " u'experience',\n",
       " u'extra',\n",
       " u'extremely',\n",
       " u'fact',\n",
       " u'family',\n",
       " u'fan',\n",
       " u'fantastic',\n",
       " u'far',\n",
       " u'fast',\n",
       " u'favorite',\n",
       " u'feel',\n",
       " u'felt',\n",
       " u'finally',\n",
       " u'fine',\n",
       " u'fish',\n",
       " u'fix',\n",
       " u'flavor',\n",
       " u'flavors',\n",
       " u'floor',\n",
       " u'food',\n",
       " u'free',\n",
       " u'fresh',\n",
       " u'fried',\n",
       " u'friend',\n",
       " u'friendly',\n",
       " u'friends',\n",
       " u'fries',\n",
       " u'fun',\n",
       " u'garlic',\n",
       " u'gave',\n",
       " u'gets',\n",
       " u'getting',\n",
       " u'girl',\n",
       " u'given',\n",
       " u'giving',\n",
       " u'glad',\n",
       " u'going',\n",
       " u'gone',\n",
       " u'good',\n",
       " u'got',\n",
       " u'great',\n",
       " u'green',\n",
       " u'grilled',\n",
       " u'group',\n",
       " u'guess',\n",
       " u'guy',\n",
       " u'guys',\n",
       " u'hair',\n",
       " u'half',\n",
       " u'hands',\n",
       " u'happy',\n",
       " u'hard',\n",
       " u'haven',\n",
       " u'having',\n",
       " u'heard',\n",
       " u'help',\n",
       " u'helped',\n",
       " u'helpful',\n",
       " u'high',\n",
       " u'highly',\n",
       " u'home',\n",
       " u'horrible',\n",
       " u'hot',\n",
       " u'hotel',\n",
       " u'hour',\n",
       " u'hours',\n",
       " u'house',\n",
       " u'huge',\n",
       " u'husband',\n",
       " u'ice',\n",
       " u'immediately',\n",
       " u'impressed',\n",
       " u'inside',\n",
       " u'instead',\n",
       " u'isn',\n",
       " u'issue',\n",
       " u'issues',\n",
       " u'items',\n",
       " u'job',\n",
       " u'just',\n",
       " u'kept',\n",
       " u'kids',\n",
       " u'kind',\n",
       " u'kitchen',\n",
       " u'knew',\n",
       " u'know',\n",
       " u'knowledgeable',\n",
       " u'lady',\n",
       " u'large',\n",
       " u'las',\n",
       " u'late',\n",
       " u'later',\n",
       " u'leave',\n",
       " u'left',\n",
       " u'let',\n",
       " u'life',\n",
       " u'light',\n",
       " u'like',\n",
       " u'liked',\n",
       " u'line',\n",
       " u'list',\n",
       " u'literally',\n",
       " u'little',\n",
       " u'live',\n",
       " u'll',\n",
       " u'local',\n",
       " u'location',\n",
       " u'long',\n",
       " u'look',\n",
       " u'looked',\n",
       " u'looking',\n",
       " u'looks',\n",
       " u'lot',\n",
       " u'lots',\n",
       " u'love',\n",
       " u'loved',\n",
       " u'lunch',\n",
       " u'main',\n",
       " u'make',\n",
       " u'makes',\n",
       " u'making',\n",
       " u'man',\n",
       " u'manager',\n",
       " u'maybe',\n",
       " u'meal',\n",
       " u'meat',\n",
       " u'menu',\n",
       " u'mexican',\n",
       " u'mind',\n",
       " u'minutes',\n",
       " u'money',\n",
       " u'month',\n",
       " u'months',\n",
       " u'morning',\n",
       " u'moved',\n",
       " u'music',\n",
       " u'nails',\n",
       " u'near',\n",
       " u'need',\n",
       " u'needed',\n",
       " u'needs',\n",
       " u'new',\n",
       " u'nice',\n",
       " u'night',\n",
       " u'noodles',\n",
       " u'offer',\n",
       " u'offered',\n",
       " u'office',\n",
       " u'oh',\n",
       " u'ok',\n",
       " u'okay',\n",
       " u'old',\n",
       " u'open',\n",
       " u'option',\n",
       " u'options',\n",
       " u'order',\n",
       " u'ordered',\n",
       " u'ordering',\n",
       " u'orders',\n",
       " u'outside',\n",
       " u'overall',\n",
       " u'owner',\n",
       " u'paid',\n",
       " u'parking',\n",
       " u'party',\n",
       " u'past',\n",
       " u'pasta',\n",
       " u'patio',\n",
       " u'pay',\n",
       " u'people',\n",
       " u'perfect',\n",
       " u'perfectly',\n",
       " u'person',\n",
       " u'phone',\n",
       " u'pick',\n",
       " u'pizza',\n",
       " u'place',\n",
       " u'places',\n",
       " u'plate',\n",
       " u'pleasant',\n",
       " u'plenty',\n",
       " u'plus',\n",
       " u'point',\n",
       " u'pool',\n",
       " u'poor',\n",
       " u'pork',\n",
       " u'portion',\n",
       " u'portions',\n",
       " u'potatoes',\n",
       " u'pretty',\n",
       " u'price',\n",
       " u'priced',\n",
       " u'prices',\n",
       " u'probably',\n",
       " u'problem',\n",
       " u'professional',\n",
       " u'quality',\n",
       " u'questions',\n",
       " u'quick',\n",
       " u'quickly',\n",
       " u'quite',\n",
       " u'ready',\n",
       " u'real',\n",
       " u'really',\n",
       " u'reason',\n",
       " u'reasonable',\n",
       " u'received',\n",
       " u'recently',\n",
       " u'recommend',\n",
       " u'recommended',\n",
       " u'red',\n",
       " u'regular',\n",
       " u'restaurant',\n",
       " u'restaurants',\n",
       " u'return',\n",
       " u'review',\n",
       " u'reviews',\n",
       " u'rice',\n",
       " u'right',\n",
       " u'roll',\n",
       " u'rolls',\n",
       " u'room',\n",
       " u'rooms',\n",
       " u'rude',\n",
       " u'run',\n",
       " u'said',\n",
       " u'salad',\n",
       " u'salmon',\n",
       " u'salon',\n",
       " u'sandwich',\n",
       " u'sat',\n",
       " u'saturday',\n",
       " u'sauce',\n",
       " u'saw',\n",
       " u'say',\n",
       " u'saying',\n",
       " u'seated',\n",
       " u'seating',\n",
       " u'second',\n",
       " u'seen',\n",
       " u'selection',\n",
       " u'serve',\n",
       " u'served',\n",
       " u'server',\n",
       " u'servers',\n",
       " u'service',\n",
       " u'set',\n",
       " u'shop',\n",
       " u'short',\n",
       " u'shrimp',\n",
       " u'simple',\n",
       " u'sit',\n",
       " u'sitting',\n",
       " u'size',\n",
       " u'slow',\n",
       " u'small',\n",
       " u'soon',\n",
       " u'soup',\n",
       " u'space',\n",
       " u'special',\n",
       " u'spicy',\n",
       " u'spot',\n",
       " u'staff',\n",
       " u'star',\n",
       " u'stars',\n",
       " u'start',\n",
       " u'started',\n",
       " u'stay',\n",
       " u'steak',\n",
       " u'stop',\n",
       " u'stopped',\n",
       " u'store',\n",
       " u'street',\n",
       " u'strip',\n",
       " u'stuff',\n",
       " u'style',\n",
       " u'sunday',\n",
       " u'super',\n",
       " u'sure',\n",
       " u'sushi',\n",
       " u'sweet',\n",
       " u'table',\n",
       " u'tables',\n",
       " u'tacos',\n",
       " u'taken',\n",
       " u'taking',\n",
       " u'taste',\n",
       " u'tasted',\n",
       " u'tasty',\n",
       " u'tea',\n",
       " u'tell',\n",
       " u'terrible',\n",
       " u'thai',\n",
       " u'thank',\n",
       " u'thanks',\n",
       " u'thing',\n",
       " u'things',\n",
       " u'think',\n",
       " u'thought',\n",
       " u'time',\n",
       " u'times',\n",
       " u'tip',\n",
       " u'today',\n",
       " u'told',\n",
       " u'took',\n",
       " u'totally',\n",
       " u'town',\n",
       " u'tried',\n",
       " u'trip',\n",
       " u'try',\n",
       " u'trying',\n",
       " u'twice',\n",
       " u'understand',\n",
       " u'unfortunately',\n",
       " u'use',\n",
       " u'used',\n",
       " u'usually',\n",
       " u'variety',\n",
       " u've',\n",
       " u'vegas',\n",
       " u'visit',\n",
       " u'wait',\n",
       " u'waited',\n",
       " u'waiter',\n",
       " u'waiting',\n",
       " u'waitress',\n",
       " u'walk',\n",
       " u'walked',\n",
       " u'want',\n",
       " u'wanted',\n",
       " u'warm',\n",
       " u'wasn',\n",
       " u'water',\n",
       " u'way',\n",
       " u'week',\n",
       " u'weekend',\n",
       " u'weeks',\n",
       " u'went',\n",
       " u'white',\n",
       " u'wife',\n",
       " u'wine',\n",
       " u'wings',\n",
       " u'wish',\n",
       " u'won',\n",
       " u'wonderful',\n",
       " u'work',\n",
       " u'worked',\n",
       " u'working',\n",
       " u'worst',\n",
       " u'worth',\n",
       " u'wouldn',\n",
       " u'wow',\n",
       " u'wrong',\n",
       " u'year',\n",
       " u'years',\n",
       " u'yelp',\n",
       " u'yes',\n",
       " u'yummy']"
      ]
     },
     "execution_count": 21,
     "metadata": {},
     "output_type": "execute_result"
    }
   ],
   "source": [
    "words"
   ]
  },
  {
   "cell_type": "code",
   "execution_count": null,
   "metadata": {
    "collapsed": true
   },
   "outputs": [],
   "source": [
    "X = vectors\n",
    "y = target_train"
   ]
  },
  {
   "cell_type": "code",
   "execution_count": null,
   "metadata": {
    "collapsed": true
   },
   "outputs": [],
   "source": [
    "y_test = target_test\n",
    "X_test = vectorizer.transform(documents_test)"
   ]
  },
  {
   "cell_type": "markdown",
   "metadata": {},
   "source": [
    "## Similar review search engine"
   ]
  },
  {
   "cell_type": "code",
   "execution_count": null,
   "metadata": {
    "collapsed": true
   },
   "outputs": [],
   "source": [
    "import numpy as np\n",
    "\n",
    "# We will need these helper methods pretty soon\n",
    "\n",
    "def get_top_values(lst, n, labels):\n",
    "    '''\n",
    "    INPUT: LIST, INTEGER, LIST\n",
    "    OUTPUT: LIST\n",
    "\n",
    "    Given a list of values, find the indices with the highest n values.\n",
    "    Return the labels for each of these indices.\n",
    "\n",
    "    e.g.\n",
    "    lst = [7, 3, 2, 4, 1]\n",
    "    n = 2\n",
    "    labels = [\"cat\", \"dog\", \"mouse\", \"pig\", \"rabbit\"]\n",
    "    output: [\"cat\", \"pig\"]\n",
    "    '''\n",
    "    return [labels[i] for i in np.argsort(lst)[::-1][:n]]  # np.argsort by default sorts values in ascending order\n",
    "\n",
    "#def get_bottom_values(lst, n, labels):\n",
    "    '''\n",
    "    INPUT: LIST, INTEGER, LIST\n",
    "    OUTPUT: LIST\n",
    "\n",
    "    Given a list of values, find the indices with the lowest n values.\n",
    "    Return the labels for each of these indices.\n",
    "\n",
    "    e.g.\n",
    "    lst = [7, 3, 2, 4, 1]\n",
    "    n = 2\n",
    "    labels = [\"cat\", \"dog\", \"mouse\", \"pig\", \"rabbit\"]\n",
    "    output: [\"mouse\", \"rabbit\"]\n",
    "    '''\n",
    "    #return [labels[i] for i in np.argsort(lst)[::-1][:n]]"
   ]
  },
  {
   "cell_type": "code",
   "execution_count": null,
   "metadata": {},
   "outputs": [],
   "source": [
    "avg = np.sum(vectors, axis=0) / np.sum(vectors > 0, axis=0)\n",
    "print(\"top 10 by average tf-idf\")\n",
    "print(get_top_values(avg, 10, words))"
   ]
  },
  {
   "cell_type": "code",
   "execution_count": null,
   "metadata": {},
   "outputs": [],
   "source": [
    "total = np.sum(vectors, axis=0)\n",
    "print(\"top 10 by total tf-idf\")\n",
    "print(get_top_values(total, 10, words))"
   ]
  },
  {
   "cell_type": "code",
   "execution_count": null,
   "metadata": {
    "collapsed": true
   },
   "outputs": [],
   "source": [
    "# Let's use cosine similarity\n",
    "from sklearn.metrics.pairwise import cosine_similarity"
   ]
  },
  {
   "cell_type": "code",
   "execution_count": null,
   "metadata": {
    "collapsed": true
   },
   "outputs": [],
   "source": [
    "# Draw an arbitrary review from test (unseen in training) documents\n",
    "y_test = target_test"
   ]
  },
  {
   "cell_type": "code",
   "execution_count": null,
   "metadata": {
    "collapsed": true
   },
   "outputs": [],
   "source": [
    "# Transform the drawn review(s) to vector(s)\n",
    "X_test = vectorizer.transform(documents_test)"
   ]
  },
  {
   "cell_type": "code",
   "execution_count": null,
   "metadata": {},
   "outputs": [],
   "source": [
    "# Calculate the similarity score(s) between vector(s) and training vectors\n",
    "print(cosine_similarity(vectors[0].reshape(1, -1), vectors[1].reshape(1, -1)))"
   ]
  },
  {
   "cell_type": "code",
   "execution_count": null,
   "metadata": {},
   "outputs": [],
   "source": [
    "# Let's find top 5 similar reviews\n",
    "n = 5\n",
    "avg = np.sum(vectors, axis=0) / np.sum(vectors > 0, axis=0)\n",
    "print(\"top 5 by average tf-idf\")\n",
    "print(get_top_values(avg, n, words))"
   ]
  },
  {
   "cell_type": "code",
   "execution_count": null,
   "metadata": {},
   "outputs": [],
   "source": [
    "print('Our search query:')\n",
    "print() # To be added"
   ]
  },
  {
   "cell_type": "code",
   "execution_count": null,
   "metadata": {},
   "outputs": [],
   "source": [
    "print('Most %s similar reviews:' % n)\n",
    "print()  # To be added"
   ]
  },
  {
   "cell_type": "markdown",
   "metadata": {},
   "source": [
    "#### Q: Does the result make sense to you?"
   ]
  },
  {
   "cell_type": "markdown",
   "metadata": {},
   "source": [
    "A: (insert your comments here)"
   ]
  },
  {
   "cell_type": "markdown",
   "metadata": {},
   "source": [
    "## Classifying positive/negative review"
   ]
  },
  {
   "cell_type": "markdown",
   "metadata": {},
   "source": [
    "#### Naive-Bayes Classifier"
   ]
  },
  {
   "cell_type": "code",
   "execution_count": null,
   "metadata": {},
   "outputs": [],
   "source": [
    "# Build a Naive-Bayes Classifier\n",
    "from sklearn.naive_bayes import MultinomialNB\n",
    "\n",
    "model = MultinomialNB()\n",
    "\n",
    "model.fit(X, y)"
   ]
  },
  {
   "cell_type": "code",
   "execution_count": null,
   "metadata": {},
   "outputs": [],
   "source": [
    "# Get score for training set\n",
    "model.score(X, y)"
   ]
  },
  {
   "cell_type": "code",
   "execution_count": null,
   "metadata": {},
   "outputs": [],
   "source": [
    "# Get score for test set\n",
    "model.score(X_test, y_test)"
   ]
  },
  {
   "cell_type": "markdown",
   "metadata": {},
   "source": [
    "#### Logistic Regression Classifier"
   ]
  },
  {
   "cell_type": "code",
   "execution_count": null,
   "metadata": {},
   "outputs": [],
   "source": [
    "# Build a Logistic Regression Classifier\n",
    "from sklearn.linear_model import LogisticRegression\n",
    "\n",
    "model = LogisticRegression()\n",
    "\n",
    "model.fit(X, y)"
   ]
  },
  {
   "cell_type": "code",
   "execution_count": null,
   "metadata": {},
   "outputs": [],
   "source": [
    "# Get score for training set\n",
    "model.score(X, y)"
   ]
  },
  {
   "cell_type": "code",
   "execution_count": null,
   "metadata": {
    "scrolled": true
   },
   "outputs": [],
   "source": [
    "# Get score for test set\n",
    "model.score(X_test, y_test)"
   ]
  },
  {
   "cell_type": "markdown",
   "metadata": {},
   "source": [
    "#### Q: What are the key features(words) that make the positive prediction?"
   ]
  },
  {
   "cell_type": "code",
   "execution_count": null,
   "metadata": {
    "collapsed": true
   },
   "outputs": [],
   "source": [
    "# Let's find it out by ranking\n",
    "n = 20\n",
    "pass"
   ]
  },
  {
   "cell_type": "markdown",
   "metadata": {},
   "source": [
    "A: (insert your comments here)"
   ]
  },
  {
   "cell_type": "markdown",
   "metadata": {},
   "source": [
    "#### Q: What are the key features(words) that make the negative prediction?"
   ]
  },
  {
   "cell_type": "code",
   "execution_count": null,
   "metadata": {
    "collapsed": true
   },
   "outputs": [],
   "source": [
    "# Let's find it out by ranking\n",
    "n = 20\n",
    "pass"
   ]
  },
  {
   "cell_type": "markdown",
   "metadata": {},
   "source": [
    "A: (insert your comments here)"
   ]
  },
  {
   "cell_type": "markdown",
   "metadata": {},
   "source": [
    "#### Random Forest Classifier"
   ]
  },
  {
   "cell_type": "code",
   "execution_count": null,
   "metadata": {
    "collapsed": true
   },
   "outputs": [],
   "source": [
    "# Build a Random Forest Classifier\n",
    "import warnings\n",
    "warnings.filterwarnings(\"ignore\", message=\"numpy.dtype size changed\")\n",
    "warnings.filterwarnings(\"ignore\", message=\"numpy.ufunc size changed\")\n",
    "from sklearn.multiclass import OneVsRestClassifier\n",
    "from sklearn.ensemble import RandomForestClassifier\n",
    "\n",
    "estimator = RandomForestClassifier(n_estimators=200,max_depth=50,min_samples_leaf=3, random_state=1)\n",
    "model = OneVsRestClassifier(estimator,n_jobs=-1)\n",
    "\n",
    "model.fit(X, y)"
   ]
  },
  {
   "cell_type": "code",
   "execution_count": null,
   "metadata": {
    "collapsed": true
   },
   "outputs": [],
   "source": [
    "# Get score for training set\n",
    "model.score(X, y)"
   ]
  },
  {
   "cell_type": "code",
   "execution_count": null,
   "metadata": {
    "collapsed": true
   },
   "outputs": [],
   "source": [
    "# Get score for test set\n",
    "model.score(X_test, y_test)"
   ]
  },
  {
   "cell_type": "markdown",
   "metadata": {},
   "source": [
    "#### Q: What do you see from the training score and the test score?"
   ]
  },
  {
   "cell_type": "markdown",
   "metadata": {},
   "source": [
    "A: (insert your comments here)"
   ]
  },
  {
   "cell_type": "markdown",
   "metadata": {},
   "source": [
    "#### Q: Can you tell what features (words) are important by inspecting the RFC model?"
   ]
  },
  {
   "cell_type": "code",
   "execution_count": null,
   "metadata": {
    "collapsed": true
   },
   "outputs": [],
   "source": [
    "n = 20\n",
    "pass"
   ]
  },
  {
   "cell_type": "markdown",
   "metadata": {},
   "source": [
    "## Extra Credit #1: Use cross validation to evaluate your classifiers\n",
    "\n",
    "[sklearn cross validation](http://scikit-learn.org/stable/modules/cross_validation.html)"
   ]
  },
  {
   "cell_type": "code",
   "execution_count": null,
   "metadata": {
    "collapsed": true
   },
   "outputs": [],
   "source": [
    "# To be implemented\n",
    "pass"
   ]
  },
  {
   "cell_type": "markdown",
   "metadata": {},
   "source": [
    "## Extra Credit #2: Use grid search to find best predictable classifier\n",
    "\n",
    "\n",
    "[sklearn grid search tutorial (with cross validation)](http://scikit-learn.org/stable/modules/grid_search.html#grid-search)\n",
    "\n",
    "[sklearn grid search documentation (with cross validation)](http://scikit-learn.org/stable/modules/generated/sklearn.model_selection.GridSearchCV.html#sklearn.model_selection.GridSearchCV)"
   ]
  },
  {
   "cell_type": "code",
   "execution_count": null,
   "metadata": {
    "collapsed": true
   },
   "outputs": [],
   "source": [
    "# To be implemented\n",
    "pass"
   ]
  },
  {
   "cell_type": "code",
   "execution_count": null,
   "metadata": {
    "collapsed": true
   },
   "outputs": [],
   "source": []
  }
 ],
 "metadata": {
  "anaconda-cloud": {},
  "kernelspec": {
   "display_name": "Python 2",
   "language": "python",
   "name": "python2"
  },
  "language_info": {
   "codemirror_mode": {
    "name": "ipython",
    "version": 2
   },
   "file_extension": ".py",
   "mimetype": "text/x-python",
   "name": "python",
   "nbconvert_exporter": "python",
   "pygments_lexer": "ipython2",
   "version": "2.7.3"
  }
 },
 "nbformat": 4,
 "nbformat_minor": 1
}
